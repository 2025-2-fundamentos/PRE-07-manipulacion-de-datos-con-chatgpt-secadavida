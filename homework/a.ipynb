{
 "cells": [
  {
   "cell_type": "code",
   "execution_count": null,
   "id": "4004a8cc",
   "metadata": {},
   "outputs": [],
   "source": [
    "output/summary.csv\n",
    "plots/top10_drivers.png"
   ]
  },
  {
   "cell_type": "code",
   "execution_count": null,
   "id": "11ed2215",
   "metadata": {},
   "outputs": [],
   "source": []
  }
 ],
 "metadata": {
  "language_info": {
   "name": "python"
  }
 },
 "nbformat": 4,
 "nbformat_minor": 5
}

